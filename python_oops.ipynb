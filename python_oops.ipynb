{
  "nbformat": 4,
  "nbformat_minor": 0,
  "metadata": {
    "colab": {
      "provenance": []
    },
    "kernelspec": {
      "name": "python3",
      "display_name": "Python 3"
    },
    "language_info": {
      "name": "python"
    }
  },
  "cells": [
    {
      "cell_type": "code",
      "execution_count": null,
      "metadata": {
        "colab": {
          "base_uri": "https://localhost:8080/"
        },
        "id": "REtg53NtCbTD",
        "outputId": "80707612-59cd-43f0-a339-72bcca2d7fc5"
      },
      "outputs": [
        {
          "output_type": "execute_result",
          "data": {
            "text/plain": [
              "3"
            ]
          },
          "metadata": {},
          "execution_count": 3
        }
      ],
      "source": [
        "class maths:\n",
        "  def subtract(self,i,j):\n",
        "    return i-j\n",
        "  def add(self,x,y):\n",
        "    return x+y\n",
        "m=maths()\n",
        "m.subtract(10,7)\n",
        "\n"
      ]
    },
    {
      "cell_type": "code",
      "source": [],
      "metadata": {
        "id": "mP0aaRYBETEY"
      },
      "execution_count": null,
      "outputs": []
    },
    {
      "cell_type": "code",
      "source": [],
      "metadata": {
        "id": "d6fhdkm1ETIH"
      },
      "execution_count": null,
      "outputs": []
    },
    {
      "cell_type": "code",
      "source": [],
      "metadata": {
        "id": "evXaKWP65UsH"
      },
      "execution_count": null,
      "outputs": []
    },
    {
      "cell_type": "code",
      "source": [],
      "metadata": {
        "id": "OCwFZvSt5Uvg"
      },
      "execution_count": null,
      "outputs": []
    },
    {
      "cell_type": "code",
      "source": [
        "class Car:\n",
        "    def __init__(self, make, model):\n",
        "        self.make = make\n",
        "        self.model = model\n",
        "\n",
        "    def info(self):\n",
        "        return f\"This car is a {self.make} {self.model}.\"\n",
        "my_car = Car(\"Toyota\", \"Corolla\")\n",
        "print(my_car.make)  # Output: Toyota\n",
        "print(my_car.model)  # Output: Corolla\n"
      ],
      "metadata": {
        "id": "kkaZmlS9GpJy",
        "colab": {
          "base_uri": "https://localhost:8080/"
        },
        "outputId": "a61deb98-358d-4eec-d04b-4822beb1bc03"
      },
      "execution_count": null,
      "outputs": [
        {
          "output_type": "stream",
          "name": "stdout",
          "text": [
            "Toyota\n",
            "Corolla\n"
          ]
        }
      ]
    },
    {
      "cell_type": "code",
      "source": [
        "class calculator:\n",
        "  def __init__(self,x,y):\n",
        "    self.x=x\n",
        "    self.y=y\n",
        "  def add(self):\n",
        "    return self.x + self.y\n",
        "  def subtract(self):\n",
        "    return self.x - self.y\n",
        "  def multiply(self):\n",
        "    return self.x * self.y\n",
        "  def divide(self):\n",
        "    if self.y != 0:\n",
        "      return self.x / self.y\n",
        "    else:\n",
        "      return \"cannot divide by zero\"\n",
        "calc =calculator(10,5)\n",
        "print(\"addision:\",calc.add())\n",
        "print(\"sub:\",calc.subtract())\n",
        "print(\"mul\",calc.multiply())\n",
        "print(\"Division\",calc.divide())\n"
      ],
      "metadata": {
        "id": "E1lEKES2GpND",
        "colab": {
          "base_uri": "https://localhost:8080/"
        },
        "outputId": "3a61b4eb-ca61-47fa-9acd-44bfb845ebe3"
      },
      "execution_count": null,
      "outputs": [
        {
          "output_type": "stream",
          "name": "stdout",
          "text": [
            "addision: 15\n",
            "sub: 5\n",
            "mul 50\n",
            "Division 2.0\n"
          ]
        }
      ]
    },
    {
      "cell_type": "code",
      "source": [
        "class Calculator:\n",
        "    def __init__(self, x, y):\n",
        "        self.x = x\n",
        "        self.y = y\n",
        "\n",
        "    def add(self):\n",
        "        return self.x + self.y\n",
        "\n",
        "    def subtract(self):\n",
        "        return self.x - self.y\n",
        "\n",
        "    def multiply(self):\n",
        "        return self.x * self.y\n",
        "\n",
        "    def divide(self):\n",
        "        if self.y != 0:\n",
        "            return self.x / self.y\n",
        "        else:\n",
        "            return \"Cannot divide by zero\"\n",
        "\n",
        "# Creating an instance of the Calculator class\n",
        "calc = Calculator(10, 5)\n",
        "\n",
        "# Using the methods of the class\n",
        "print(\"Addition:\", calc.add())       # Output: Addition: 15\n",
        "print(\"Subtraction:\", calc.subtract())  # Output: Subtraction: 5\n",
        "print(\"Multiplication:\", calc.multiply())  # Output: Multiplication: 50\n",
        "print(\"Division:\", calc.divide())    # Output: Division: 2.0\n"
      ],
      "metadata": {
        "colab": {
          "base_uri": "https://localhost:8080/"
        },
        "id": "EDhFuI-1cCj1",
        "outputId": "cb426e60-8569-46eb-a03a-40d5cccb670d"
      },
      "execution_count": null,
      "outputs": [
        {
          "output_type": "stream",
          "name": "stdout",
          "text": [
            "Addition: 15\n",
            "Subtraction: 5\n",
            "Multiplication: 50\n",
            "Division: 2.0\n"
          ]
        }
      ]
    },
    {
      "cell_type": "code",
      "source": [],
      "metadata": {
        "id": "8r259Oxu5XIe"
      },
      "execution_count": null,
      "outputs": []
    },
    {
      "cell_type": "code",
      "source": [],
      "metadata": {
        "id": "7OH_iq7G5Yrg"
      },
      "execution_count": null,
      "outputs": []
    },
    {
      "cell_type": "code",
      "source": [
        "class Data:\n",
        "  num=3\n",
        "var= Data()\n",
        "print(var.num)\n",
        "\n"
      ],
      "metadata": {
        "colab": {
          "base_uri": "https://localhost:8080/"
        },
        "id": "PyiRVq2A5YvD",
        "outputId": "f4637fcb-33b4-4e06-fc62-5f82624ca255"
      },
      "execution_count": null,
      "outputs": [
        {
          "output_type": "stream",
          "name": "stdout",
          "text": [
            "3\n"
          ]
        }
      ]
    },
    {
      "cell_type": "code",
      "source": [
        "class maths:\n",
        "  def Subtract(self,i,j):\n",
        "    return i-j\n",
        "  def add(self,x,y):\n",
        "    return x+y\n",
        "m=maths()\n",
        "m.Subtract(10,7)\n",
        "m.add(8,9)"
      ],
      "metadata": {
        "colab": {
          "base_uri": "https://localhost:8080/"
        },
        "id": "oROeeVyb5oEi",
        "outputId": "34d2ec22-9e24-456d-a2f1-e0f6f3a02c10"
      },
      "execution_count": null,
      "outputs": [
        {
          "output_type": "execute_result",
          "data": {
            "text/plain": [
              "17"
            ]
          },
          "metadata": {},
          "execution_count": 5
        }
      ]
    },
    {
      "cell_type": "code",
      "source": [
        "class car:\n",
        "  def __init__(self,make,model):\n",
        "    self.make = make\n",
        "    self.model = model\n",
        "  def info(self):\n",
        "    return f'this caR IS A {self.make} {self.model}.'\n",
        "my_car = car(\"toyota\",\"carolla\")\n",
        "print(my_car.make)\n",
        "print(my_car.model)\n",
        "\n"
      ],
      "metadata": {
        "colab": {
          "base_uri": "https://localhost:8080/"
        },
        "id": "6KWUjDTt5oHv",
        "outputId": "2515bcb9-2142-4f3d-d94e-64d79f6c6721"
      },
      "execution_count": null,
      "outputs": [
        {
          "output_type": "stream",
          "name": "stdout",
          "text": [
            "toyota\n",
            "carolla\n"
          ]
        }
      ]
    },
    {
      "cell_type": "code",
      "source": [
        "class Car:\n",
        "    def __init__(self, make, model):\n",
        "        self.make = make\n",
        "        self.model = model\n",
        "\n",
        "    def info(self):\n",
        "        return f\"This car is a {self.make} {self.model}.\"\n",
        "my_car = Car(\"Toyota\", \"Corolla\")\n",
        "print(my_car.make)  # Output: Toyota\n",
        "print(my_car.model)  # Output: Corolla"
      ],
      "metadata": {
        "colab": {
          "base_uri": "https://localhost:8080/"
        },
        "id": "ZuIjJoH_5oLM",
        "outputId": "b0775164-7aa8-4735-a5b8-5fcea48956d3"
      },
      "execution_count": null,
      "outputs": [
        {
          "output_type": "stream",
          "name": "stdout",
          "text": [
            "Toyota\n",
            "Corolla\n"
          ]
        }
      ]
    },
    {
      "cell_type": "code",
      "source": [
        "class Calculator:\n",
        "  def __init__(self,x,y):\n",
        "    self.x=x\n",
        "    self.y=y\n",
        "  def add(self):\n",
        "    return self.x + self.y\n",
        "  def sub(self):\n",
        "    return self.x - self.y\n",
        "  def mul(self):\n",
        "    return self.x * self.y\n",
        "  def divide(self):\n",
        "    if self.y!=0:\n",
        "      return self.x / self.y\n",
        "    else:\n",
        "      return(\"the number is not divide by 0\")\n",
        "\n",
        "calc=Calculator(5,10)\n",
        "print(\"addition\",calc.add())\n",
        "print(\"subtraction\",calc.sub())\n",
        "print(\"multiplication\",calc.mul())\n",
        "print(\"divide.\",calc.divide())"
      ],
      "metadata": {
        "colab": {
          "base_uri": "https://localhost:8080/"
        },
        "id": "0qS2E0Kg5oOr",
        "outputId": "49bd676a-b1b9-4592-a658-ca4090d5a31f"
      },
      "execution_count": null,
      "outputs": [
        {
          "output_type": "stream",
          "name": "stdout",
          "text": [
            "addition 15\n",
            "subtraction -5\n",
            "multiplication 50\n",
            "divide. 0.5\n"
          ]
        }
      ]
    },
    {
      "cell_type": "code",
      "source": [
        "class Person:\n",
        "    def __init__(self, name, age):\n",
        "        self._name = name  # Encapsulated attribute\n",
        "        self._age = age  # Encapsulated attribute\n",
        "\n",
        "    def display_info(self):\n",
        "        print(f\"Name: {self._name}, Age: {self._age}\")\n",
        "\n",
        "\n",
        "# Creating an instance of the Person class\n",
        "person1 = Person(\"Alice\", 30)\n",
        "\n",
        "# Accessing encapsulated attributes directly (not recommended, but possible)\n",
        "print(\"Accessing encapsulated attributes directly:\")\n",
        "print(\"Name:\", person1._name)\n",
        "print(\"Age:\", person1._age)\n",
        "\n",
        "# Displaying person information using a method\n",
        "person1.display_info()\n"
      ],
      "metadata": {
        "id": "A-Mt4-e65Xdp"
      },
      "execution_count": null,
      "outputs": []
    },
    {
      "cell_type": "code",
      "source": [
        "class person:\n",
        "  def __init__(self,name,age):\n",
        "    self._name=name\n",
        "    self._age=age\n",
        "  def display_info(self):\n",
        "    print(f\"Name:{self._name},Age:{self._age}\")\n",
        "person1=person(\"alice\",30)\n",
        "print(\"name:\",person1._name)\n",
        "print(\"age:\",person1._age)\n",
        "person1.display_info()\n",
        "\n"
      ],
      "metadata": {
        "id": "L9OlGVkE5XxD",
        "colab": {
          "base_uri": "https://localhost:8080/"
        },
        "outputId": "8002b0ab-d839-4aec-bddb-dc8fb9c4efee"
      },
      "execution_count": null,
      "outputs": [
        {
          "output_type": "stream",
          "name": "stdout",
          "text": [
            "name: alice\n",
            "age: 30\n",
            "Name:alice,Age:30\n"
          ]
        }
      ]
    },
    {
      "cell_type": "code",
      "source": [
        "class add:\n",
        "  def __init__(self,x,y):\n",
        "    self.x=x\n",
        "    self.y=y\n",
        "  def add(self):\n",
        "    return self.x+self.y\n",
        "calc=add(10,5)\n",
        "print(\"add:\",calc.add())"
      ],
      "metadata": {
        "id": "o39E7sZu5X01",
        "colab": {
          "base_uri": "https://localhost:8080/"
        },
        "outputId": "18118fed-c61e-46d6-88f1-80f2b4950045"
      },
      "execution_count": null,
      "outputs": [
        {
          "output_type": "stream",
          "name": "stdout",
          "text": [
            "add: 15\n"
          ]
        }
      ]
    },
    {
      "cell_type": "code",
      "source": [
        "class Animal:\n",
        "    def speak(self):\n",
        "        pass  # Placeholder for the speak method\n",
        "\n",
        "\n",
        "class Dog(Animal):\n",
        "    def speak(self):\n",
        "        return \"Woof!\"\n",
        "\n",
        "\n",
        "class Cat(Animal):\n",
        "    def speak(self):\n",
        "        return \"Meow!\"\n",
        "\n",
        "\n",
        "class Cow(Animal):\n",
        "    def speak(self):\n",
        "        return \"Moo!\"\n",
        "\n",
        "\n",
        "# Function to make animal speak\n",
        "def make_animal_speak(animal):\n",
        "    print(animal.speak())\n",
        "\n",
        "\n",
        "# Creating instances of different animal classes\n",
        "dog = Dog()\n",
        "cat = Cat()\n",
        "cow = Cow()\n",
        "\n",
        "# Making animals speak\n",
        "make_animal_speak(dog)  # Outputs: Woof!\n",
        "make_animal_speak(cat)  # Outputs: Meow!\n",
        "make_animal_speak(cow)  # Outputs: Moo!\n"
      ],
      "metadata": {
        "id": "GPPvZIfP5X4X",
        "colab": {
          "base_uri": "https://localhost:8080/"
        },
        "outputId": "7b9b4256-aec3-4f2d-c602-dabd685c70d3"
      },
      "execution_count": null,
      "outputs": [
        {
          "output_type": "stream",
          "name": "stdout",
          "text": [
            "Woof!\n",
            "Meow!\n",
            "Moo!\n"
          ]
        }
      ]
    },
    {
      "cell_type": "code",
      "source": [],
      "metadata": {
        "id": "j62o-zTkDS6h"
      },
      "execution_count": null,
      "outputs": []
    },
    {
      "cell_type": "markdown",
      "source": [
        "Encapsulation"
      ],
      "metadata": {
        "id": "giGUl3dHDT5i"
      }
    },
    {
      "cell_type": "code",
      "source": [
        "class Circle:\n",
        "    def __init__(self, radius):\n",
        "        self.__radius = radius  # Private attribute\n",
        "\n",
        "    def area(self):\n",
        "        return 3.14 * self.__radius ** 2\n",
        "\n",
        "    def get_radius(self):\n",
        "        return self.__radius\n",
        "\n",
        "    def set_radius(self, radius):\n",
        "        if radius > 0:\n",
        "            self.__radius = radius\n",
        "        else:\n",
        "            print(\"Radius must be positive\")\n",
        "\n",
        "\n",
        "# Creating an instance of Circle class\n",
        "my_circle = Circle(5)\n",
        "\n",
        "# Accessing private attribute using getter method\n",
        "print(\"Radius of the circle:\", my_circle.get_radius())\n",
        "\n",
        "# Updating private attribute using setter method\n",
        "my_circle.set_radius(7)\n",
        "print(\"New radius of the circle:\", my_circle.get_radius())\n",
        "\n",
        "my_circle.set_radius(-3)\n",
        "print(\"Radius of the circle:\", my_circle.get_radius())\n"
      ],
      "metadata": {
        "colab": {
          "base_uri": "https://localhost:8080/"
        },
        "id": "OCX_WbPvDS-C",
        "outputId": "a5ac5c0e-be59-4e8f-c5ce-2eb33021c11a"
      },
      "execution_count": null,
      "outputs": [
        {
          "output_type": "stream",
          "name": "stdout",
          "text": [
            "Radius of the circle: 5\n",
            "New radius of the circle: 7\n",
            "Radius must be positive\n",
            "Radius of the circle: 7\n"
          ]
        }
      ]
    },
    {
      "cell_type": "code",
      "source": [],
      "metadata": {
        "id": "kvPxpAjgE5gg"
      },
      "execution_count": null,
      "outputs": []
    },
    {
      "cell_type": "markdown",
      "source": [
        "polymorphisam"
      ],
      "metadata": {
        "id": "cJqJTJdfE-EN"
      }
    },
    {
      "cell_type": "code",
      "source": [
        "class Animal:\n",
        "    pass\n",
        "\n",
        "class Dog(Animal):\n",
        "    def speak(self):\n",
        "        return \"Woof!\"\n",
        "\n",
        "class Cat(Animal):\n",
        "    def speak(self):\n",
        "        return \"Meow!\"\n",
        "\n",
        "class Duck(Animal):\n",
        "    def speak(self):\n",
        "        return \"Quack!\"\n",
        "\n",
        "\n",
        "# Function to make animals speak\n",
        "def make_animal_speak(animal):\n",
        "    if isinstance(animal, Dog):\n",
        "        return \"Dog says: \" + animal.speak()\n",
        "    elif isinstance(animal, Cat):\n",
        "        return \"Cat says: \" + animal.speak()\n",
        "    elif isinstance(animal, Duck):\n",
        "        return \"Duck says: \" + animal.speak()\n",
        "    else:\n",
        "        return \"Unknown animal type\"\n",
        "\n",
        "\n",
        "# Creating instances of different animal classes\n",
        "dog = Dog()\n",
        "cat = Cat()\n",
        "duck = Duck()\n",
        "\n",
        "# Making animals speak\n",
        "print(make_animal_speak(dog))  # Output: Dog says: Woof!\n",
        "print(make_animal_speak(cat))  # Output: Cat says: Meow!\n",
        "print(make_animal_speak(duck))  # Output: Duck says: Quack!\n"
      ],
      "metadata": {
        "colab": {
          "base_uri": "https://localhost:8080/"
        },
        "id": "4mTW9etiDTBp",
        "outputId": "4c035ebc-7165-4287-92cf-efb16cc42060"
      },
      "execution_count": null,
      "outputs": [
        {
          "output_type": "stream",
          "name": "stdout",
          "text": [
            "Dog says: Woof!\n",
            "Cat says: Meow!\n",
            "Duck says: Quack!\n"
          ]
        }
      ]
    },
    {
      "cell_type": "code",
      "source": [],
      "metadata": {
        "id": "w3l0cfF4DTG9"
      },
      "execution_count": null,
      "outputs": []
    },
    {
      "cell_type": "markdown",
      "source": [
        "**abstraction**"
      ],
      "metadata": {
        "id": "Uw1HLUBmLiDN"
      }
    },
    {
      "cell_type": "markdown",
      "source": [],
      "metadata": {
        "id": "xKlk1HvlLgjn"
      }
    },
    {
      "cell_type": "code",
      "source": [
        "from abc import ABC, abstractmethod\n",
        "\n",
        "# Abstract class representing a Vehicle\n",
        "class Vehicle(ABC):\n",
        "    def __init__(self, make, model):\n",
        "        self.make = make\n",
        "        self.model = model\n",
        "\n",
        "    @abstractmethod\n",
        "    def start(self):\n",
        "\n",
        "        pass\n",
        "\n",
        "    @abstractmethod\n",
        "    def stop(self):\n",
        "\n",
        "        pass\n",
        "\n",
        "# Concrete subclass representing a Car\n",
        "class Car(Vehicle):\n",
        "    def start(self):\n",
        "        return f\"{self.make} {self.model} starts the engine.\"\n",
        "\n",
        "    def stop(self):\n",
        "        return f\"{self.make} {self.model} stops the engine.\"\n",
        "\n",
        "# Concrete subclass representing a Motorcycle\n",
        "class Motorcycle(Vehicle):\n",
        "    def start(self):\n",
        "        return f\"{self.make} {self.model} starts the ignition.\"\n",
        "\n",
        "    def stop(self):\n",
        "        return f\"{self.make} {self.model} stops the ignition.\"\n",
        "\n",
        "# Creating instances of Car and Motorcycle\n",
        "my_car = Car(\"Toyota\", \"Corolla\")\n",
        "my_motorcycle = Motorcycle(\"Honda\", \"CBR500R\")\n",
        "\n",
        "# Using abstraction to start and stop vehicles\n",
        "print(my_car.start())       # Output: Toyota Corolla starts the engine.\n",
        "print(my_car.stop())        # Output: Toyota Corolla stops the engine.\n",
        "print(my_motorcycle.start()) # Output: Honda CBR500R starts the ignition.\n",
        "print(my_motorcycle.stop())  # Output: Honda CBR500R stops the ignition.\n"
      ],
      "metadata": {
        "colab": {
          "base_uri": "https://localhost:8080/"
        },
        "id": "OqVJQQUTDTKe",
        "outputId": "5257ae5b-6052-41a0-f73f-b43c3937af92"
      },
      "execution_count": null,
      "outputs": [
        {
          "output_type": "stream",
          "name": "stdout",
          "text": [
            "Toyota Corolla starts the engine.\n",
            "Toyota Corolla stops the engine.\n",
            "Honda CBR500R starts the ignition.\n",
            "Honda CBR500R stops the ignition.\n"
          ]
        }
      ]
    },
    {
      "cell_type": "markdown",
      "source": [
        "\n",
        "**Constructor**"
      ],
      "metadata": {
        "id": "m_pKvPVwPaE6"
      }
    },
    {
      "cell_type": "code",
      "source": [
        "class Person:\n",
        "    def __init__(self, name, age):\n",
        "        self.name = name\n",
        "        self.age = age\n",
        "\n",
        "    def greet(self):\n",
        "        return f\"Hello, my name is {self.name} and I am {self.age} years old.\"\n",
        "\n",
        "\n",
        "# Creating instances of Person class\n",
        "person1 = Person(\"Alice\", 30)\n",
        "person2 = Person(\"Bob\", 25)\n",
        "\n",
        "# Accessing attributes and calling method\n",
        "print(person1.greet())  # Output: Hello, my name is Alice and I am 30 years old.\n",
        "print(person2.greet())  # Output: Hello, my name is Bob and I am 25 years old.\n"
      ],
      "metadata": {
        "colab": {
          "base_uri": "https://localhost:8080/"
        },
        "id": "5sDXOxwEPgrP",
        "outputId": "5a56e8fd-e904-4027-fad8-7e7884de9272"
      },
      "execution_count": null,
      "outputs": [
        {
          "output_type": "stream",
          "name": "stdout",
          "text": [
            "Hello, my name is Alice and I am 30 years old.\n",
            "Hello, my name is Bob and I am 25 years old.\n"
          ]
        }
      ]
    },
    {
      "cell_type": "code",
      "source": [],
      "metadata": {
        "id": "VX1NrVLLQNr6"
      },
      "execution_count": null,
      "outputs": []
    },
    {
      "cell_type": "markdown",
      "source": [
        "destructors"
      ],
      "metadata": {
        "id": "xoKeB5WzQPb5"
      }
    },
    {
      "cell_type": "code",
      "source": [
        "class MyClass:\n",
        "    def __init__(self, name):\n",
        "        self.name = name\n",
        "        print(f\"{self.name} is created.\")\n",
        "\n",
        "    def __del__(self):\n",
        "        print(f\"{self.name} is destroyed.\")\n",
        "\n",
        "\n",
        "# Creating instances of MyClass\n",
        "obj1 = MyClass(\"Object 1\")\n",
        "obj2 = MyClass(\"Object 2\")\n",
        "\n",
        "# Deleting obj1 explicitly\n",
        "del obj1\n",
        "\n",
        "# Output:\n",
        "# Object 1 is created.\n",
        "# Object 2 is created.\n",
        "# Object 1 is destroyed.\n",
        "\n",
        "# obj1 is deleted explicitly, so its destructor is called.\n"
      ],
      "metadata": {
        "colab": {
          "base_uri": "https://localhost:8080/"
        },
        "id": "d5JBdXNPPgul",
        "outputId": "50dc31f4-571c-463b-ed9b-0fed808246af"
      },
      "execution_count": null,
      "outputs": [
        {
          "output_type": "stream",
          "name": "stdout",
          "text": [
            "Object 1 is created.\n",
            "Object 2 is created.\n",
            "Object 1 is destroyed.\n",
            "Object 2 is destroyed.\n"
          ]
        }
      ]
    },
    {
      "cell_type": "code",
      "source": [
        "class MyClass:\n",
        "    def __init__(self, name):\n",
        "        self.name = name\n",
        "        print(f\"{self.name} is created.\")\n",
        "\n",
        "    def __del__(self):\n",
        "        print(f\"{self.name} is destroyed.\")\n",
        "\n",
        "\n",
        "# Creating instances of MyClass\n",
        "obj1 = MyClass(\"Object 1\")\n",
        "obj2 = MyClass(\"Object 2\")\n",
        "\n",
        "# Deleting obj1 explicitly\n",
        "del obj1\n",
        "\n",
        "# Output:\n",
        "# Object 1 is created.\n",
        "# Object 2 is created.\n",
        "# Object 1 is destroyed.\n"
      ],
      "metadata": {
        "colab": {
          "base_uri": "https://localhost:8080/"
        },
        "id": "BtMb_43DPgyN",
        "outputId": "95bb2fb8-189a-4a10-8990-f5cc8eabf5fe"
      },
      "execution_count": null,
      "outputs": [
        {
          "output_type": "stream",
          "name": "stdout",
          "text": [
            "Object 1 is created.\n",
            "Object 2 is created.\n",
            "Object 1 is destroyed.\n",
            "Object 2 is destroyed.\n"
          ]
        }
      ]
    },
    {
      "cell_type": "code",
      "source": [
        "class Counter:\n",
        "    total_counters = 0\n",
        "\n",
        "    def __init__(self):\n",
        "        Counter.total_counters += 1\n",
        "        print(\"Counter created.\")\n",
        "\n",
        "    def __del__(self):\n",
        "        Counter.total_counters -= 1\n",
        "        print(\"Counter destroyed.\")\n",
        "\n",
        "\n",
        "# Creating instances of Counter\n",
        "counter1 = Counter()\n",
        "counter2 = Counter()\n",
        "\n",
        "# Displaying the total number of counters\n",
        "print(\"Total counters:\", Counter.total_counters)\n",
        "\n",
        "# Deleting counter1\n",
        "del counter1\n",
        "\n",
        "# Displaying the total number of counters after deletion\n",
        "print(\"Total counters:\", Counter.total_counters)\n"
      ],
      "metadata": {
        "colab": {
          "base_uri": "https://localhost:8080/"
        },
        "id": "U_TGztWzTEQF",
        "outputId": "84e92925-ec0e-452e-9d17-bc6087d9d6f0"
      },
      "execution_count": null,
      "outputs": [
        {
          "output_type": "stream",
          "name": "stdout",
          "text": [
            "Counter created.\n",
            "Counter created.\n",
            "Total counters: 2\n",
            "Counter destroyed.\n",
            "Total counters: 1\n"
          ]
        }
      ]
    },
    {
      "cell_type": "code",
      "source": [],
      "metadata": {
        "id": "2iSrVe2fTQC7"
      },
      "execution_count": null,
      "outputs": []
    },
    {
      "cell_type": "markdown",
      "source": [
        "methode overriding"
      ],
      "metadata": {
        "id": "bu4E8XLDTaDv"
      }
    },
    {
      "cell_type": "code",
      "source": [
        "class Animal:\n",
        "    def make_sound(self):\n",
        "        return \"Some generic sound\"\n",
        "\n",
        "class Dog(Animal):\n",
        "    def make_sound(self):\n",
        "        return \"Woof!\"\n",
        "\n",
        "class Cat(Animal):\n",
        "    def make_sound(self):\n",
        "        return \"Meow!\"\n",
        "\n",
        "# Creating instances of Dog and Cat\n",
        "dog = Dog()\n",
        "cat = Cat()\n",
        "\n",
        "# Calling the make_sound method for each instance\n",
        "print(\"Dog says:\", dog.make_sound())  # Output: Dog says: Woof!\n",
        "print(\"Cat says:\", cat.make_sound())  # Output: Cat says: Meow!\n"
      ],
      "metadata": {
        "colab": {
          "base_uri": "https://localhost:8080/"
        },
        "id": "3KdldVtmTQGQ",
        "outputId": "8cc73523-d615-42ff-ddd3-81f4c96c67bd"
      },
      "execution_count": null,
      "outputs": [
        {
          "output_type": "stream",
          "name": "stdout",
          "text": [
            "Dog says: Woof!\n",
            "Cat says: Meow!\n"
          ]
        }
      ]
    },
    {
      "cell_type": "code",
      "source": [
        "class Car:\n",
        "    def __init__(self):\n",
        "        self.public_attribute = \"Public attribute\"\n",
        "        self._protected_attribute = \"Protected attribute\"\n",
        "        self.__private_attribute = \"Private attribute\"\n",
        "\n",
        "    def get_private_attribute(self):\n",
        "        return self.__private_attribute\n",
        "\n",
        "\n",
        "# Creating an instance of Car\n",
        "my_car = Car()\n",
        "\n",
        "# Accessing public, protected, and private attributes\n",
        "print(\"Public attribute:\", my_car.public_attribute)\n",
        "print(\"Protected attribute:\", my_car._protected_attribute)\n",
        "# Attempting to access private attribute directly will result in an AttributeError\n",
        "# print(\"Private attribute:\", my_car.__private_attribute)\n",
        "\n",
        "# Accessing private attribute using a getter method\n",
        "print(\"Private attribute (using getter method):\", my_car.get_private_attribute())\n"
      ],
      "metadata": {
        "colab": {
          "base_uri": "https://localhost:8080/"
        },
        "id": "LjXzeFpjT8Mj",
        "outputId": "38900cc1-5a36-46d6-a92d-35d356f67ad8"
      },
      "execution_count": null,
      "outputs": [
        {
          "output_type": "stream",
          "name": "stdout",
          "text": [
            "Public attribute: Public attribute\n",
            "Protected attribute: Protected attribute\n",
            "Private attribute (using getter method): Private attribute\n"
          ]
        }
      ]
    },
    {
      "cell_type": "code",
      "source": [
        "class car:\n",
        "  def __init__(self):\n",
        "    self.public_attribute = \"Public attribute\"\n",
        "    self.__private_attribute=\"private attribute\"\n",
        "    self._protected_attribute=\"producted attribute\"\n",
        "  def get_private_attribute(self):\n",
        "    return self.get_private_attribute\n",
        "my_car=Car()\n",
        "print(\"public attribute\",my_car.public_attribute)\n",
        "print(\"private attribute:\",my_car.get_private_aottribute)\n",
        "print(\"protected attribute:\",my_car._protected_attribute)\n"
      ],
      "metadata": {
        "colab": {
          "base_uri": "https://localhost:8080/"
        },
        "id": "sOvJ3FTFWEnQ",
        "outputId": "5b5ab25d-5aa1-43e0-f10d-6d86a3cd8f18"
      },
      "execution_count": null,
      "outputs": [
        {
          "output_type": "stream",
          "name": "stdout",
          "text": [
            "public attribute Public attribute\n",
            "private attribute: <bound method Car.get_private_attribute of <__main__.Car object at 0x7c25e7150af0>>\n",
            "protected attribute: Protected attribute\n"
          ]
        }
      ]
    },
    {
      "cell_type": "code",
      "source": [
        "class car:\n",
        "  def __init__(self):\n"
      ],
      "metadata": {
        "id": "Uk6fEyegEWFP"
      },
      "execution_count": null,
      "outputs": []
    },
    {
      "cell_type": "code",
      "source": [],
      "metadata": {
        "id": "5mWZ5LtTEWIw"
      },
      "execution_count": null,
      "outputs": []
    },
    {
      "cell_type": "code",
      "source": [],
      "metadata": {
        "id": "KeouHvuTEWRJ"
      },
      "execution_count": null,
      "outputs": []
    },
    {
      "cell_type": "code",
      "source": [],
      "metadata": {
        "id": "nc8gr1jdEWUo"
      },
      "execution_count": null,
      "outputs": []
    },
    {
      "cell_type": "code",
      "source": [],
      "metadata": {
        "id": "vLRzcQKEEWcT"
      },
      "execution_count": null,
      "outputs": []
    }
  ]
}