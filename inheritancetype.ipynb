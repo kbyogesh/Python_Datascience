{
  "nbformat": 4,
  "nbformat_minor": 0,
  "metadata": {
    "colab": {
      "provenance": []
    },
    "kernelspec": {
      "name": "python3",
      "display_name": "Python 3"
    },
    "language_info": {
      "name": "python"
    }
  },
  "cells": [
    {
      "cell_type": "code",
      "execution_count": null,
      "metadata": {
        "colab": {
          "base_uri": "https://localhost:8080/"
        },
        "id": "5XWviQ7d1g4Y",
        "outputId": "893b599c-140b-4f01-f5f0-275c3c89a105"
      },
      "outputs": [
        {
          "output_type": "stream",
          "name": "stdout",
          "text": [
            "animal speak\n",
            "dog barks\n"
          ]
        }
      ],
      "source": [
        "class Animal:\n",
        "  def speak(self):\n",
        "    print(\"animal speak\")\n",
        "class Dog(Animal):\n",
        "  def bark(self):\n",
        "    print(\"dog barks\")\n",
        "dog =Dog()\n",
        "dog.speak()\n",
        "dog.bark()\n",
        "\n"
      ]
    },
    {
      "cell_type": "code",
      "source": [],
      "metadata": {
        "id": "455ZmUHoGDZ5"
      },
      "execution_count": null,
      "outputs": []
    },
    {
      "cell_type": "code",
      "source": [],
      "metadata": {
        "id": "wF7jQkXMGDdN"
      },
      "execution_count": null,
      "outputs": []
    },
    {
      "cell_type": "code",
      "source": [],
      "metadata": {
        "id": "2xpZEpEZGDgX"
      },
      "execution_count": null,
      "outputs": []
    },
    {
      "cell_type": "code",
      "source": [
        "class A:\n",
        "  def methode_a(self):\n",
        "    print(\"methodea\")\n",
        "class B:\n",
        "  def methode_b(self):\n",
        "    print(\"methode b\")\n",
        "class C(A,B):\n",
        "  def methode_c(self):\n",
        "    print(\"methode c\")\n",
        "obj_c=C()\n",
        "obj_c.methode_b()\n",
        "obj_c.methode_c()\n",
        "obj_c.methode_a()\n"
      ],
      "metadata": {
        "colab": {
          "base_uri": "https://localhost:8080/"
        },
        "id": "mFpq4s0e3Yu5",
        "outputId": "fbf3ca3c-9053-44e4-c955-642cdc0f81db"
      },
      "execution_count": null,
      "outputs": [
        {
          "output_type": "stream",
          "name": "stdout",
          "text": [
            "methode b\n",
            "methode c\n",
            "methodea\n"
          ]
        }
      ]
    },
    {
      "cell_type": "code",
      "source": [
        "class A:\n",
        "    def method_a(self):\n",
        "        print(\"Method A\")\n",
        "\n",
        "class B:\n",
        "    def method_b(self):\n",
        "        print(\"Method B\")\n",
        "\n",
        "class C(A, B):  # C inherits from both A and B\n",
        "    def method_c(self):\n",
        "        print(\"Method C\")\n",
        "\n",
        "obj_c = C()\n",
        "obj_c.method_a()  # Output: Method A\n",
        "obj_c.method_b()  # Output: Method B\n",
        "obj_c.method_c()  # Output: Method C\n"
      ],
      "metadata": {
        "colab": {
          "base_uri": "https://localhost:8080/"
        },
        "id": "i3qk43aF3Yya",
        "outputId": "7a4ef72f-07e1-48b8-eb6e-59d44a7c9489"
      },
      "execution_count": null,
      "outputs": [
        {
          "output_type": "stream",
          "name": "stdout",
          "text": [
            "Method A\n",
            "Method B\n",
            "Method C\n"
          ]
        }
      ]
    },
    {
      "cell_type": "code",
      "source": [],
      "metadata": {
        "id": "95uJCj4C3Y17"
      },
      "execution_count": null,
      "outputs": []
    },
    {
      "cell_type": "code",
      "source": [
        "class Animal:\n",
        "    def speak(self):\n",
        "        print(\"Animal speaks\")\n",
        "\n",
        "class Dog(Animal):  # Dog inherits from Animal\n",
        "    def bark(self):\n",
        "        print(\"Dog barks\")\n",
        "\n",
        "dog = Dog()\n",
        "dog.speak()  # Output: Animal speaks\n",
        "dog.bark()   # Output: Dog barks\n"
      ],
      "metadata": {
        "colab": {
          "base_uri": "https://localhost:8080/"
        },
        "id": "W8xAxE_g2A85",
        "outputId": "a4eeaf24-7634-49db-fbf7-9aa73a6327a4"
      },
      "execution_count": null,
      "outputs": [
        {
          "output_type": "stream",
          "name": "stdout",
          "text": [
            "Animal speaks\n",
            "Dog barks\n"
          ]
        }
      ]
    },
    {
      "cell_type": "code",
      "source": [
        "class A:\n",
        "    def method_a(self):\n",
        "        print(\"methode a\")\n",
        "class B(A):\n",
        "     def method_b(self):\n",
        "         print(\"cxkfdsfdsf\")\n",
        "class C(B):\n",
        "     def method_c(self):\n",
        "         print(\"methode\")\n",
        "hi_c=C()\n",
        "hi_c.method_a()\n",
        "hi_c.method_b()\n",
        "hi_c.method_c()\n"
      ],
      "metadata": {
        "colab": {
          "base_uri": "https://localhost:8080/"
        },
        "id": "MhL8VQAV432z",
        "outputId": "0b722084-f1f4-4e08-a206-1377e33ff65e"
      },
      "execution_count": null,
      "outputs": [
        {
          "output_type": "stream",
          "name": "stdout",
          "text": [
            "methode a\n",
            "cxkfdsfdsf\n",
            "methode\n"
          ]
        }
      ]
    },
    {
      "cell_type": "code",
      "source": [
        "class A:\n",
        "    def method_a(self):\n",
        "        print(\"Method A\")\n",
        "\n",
        "class B(A):  # B inherits from A\n",
        "    def method_b(self):\n",
        "        print(\"Method B\")\n",
        "\n",
        "class C(B):  # C inherits from B\n",
        "    def method_c(self):\n",
        "        print(\"Method C\")\n",
        "\n",
        "obj_c = C()\n",
        "obj_c.method_a()  # Output: Method A\n",
        "obj_c.method_b()  # Output: Method B\n",
        "obj_c.method_c()  # Output: Method C\n"
      ],
      "metadata": {
        "colab": {
          "base_uri": "https://localhost:8080/"
        },
        "id": "NL9En6t7436H",
        "outputId": "b997588c-de0b-4f7e-aa8d-d1f1c829e18c"
      },
      "execution_count": null,
      "outputs": [
        {
          "output_type": "stream",
          "name": "stdout",
          "text": [
            "Method A\n",
            "Method B\n",
            "Method C\n"
          ]
        }
      ]
    },
    {
      "cell_type": "code",
      "source": [
        "class Animal:\n",
        "    def speak(self):\n",
        "        print(\"Animal speaks\")\n",
        "\n",
        "class Dog(Animal):  # Dog inherits from Animal\n",
        "    def bark(self):\n",
        "        print(\"Dog barks\")\n",
        "\n",
        "class Cat(Animal):  # Cat also inherits from Animal\n",
        "    def meow(self):\n",
        "        print(\"Cat meows\")\n",
        "\n",
        "dog = Dog()\n",
        "cat = Cat()\n",
        "dog.speak()  # Output: Animal speaks\n",
        "cat.speak()  # Output: Animal speaks\n"
      ],
      "metadata": {
        "colab": {
          "base_uri": "https://localhost:8080/"
        },
        "id": "MikYssNO439i",
        "outputId": "831bf570-5b85-4640-cd5a-4c6bb8e0f9eb"
      },
      "execution_count": null,
      "outputs": [
        {
          "output_type": "stream",
          "name": "stdout",
          "text": [
            "Animal speaks\n",
            "Animal speaks\n"
          ]
        }
      ]
    },
    {
      "cell_type": "code",
      "source": [
        "class A:\n",
        "    def method_a(self):\n",
        "        print(\"Method A\")\n",
        "\n",
        "class B(A):\n",
        "    def method_b(self):\n",
        "        print(\"Method B\")\n",
        "\n",
        "class C(A):\n",
        "    def method_c(self):\n",
        "        print(\"Method C\")\n",
        "\n",
        "class D(B, C):  # D inherits from both B and C\n",
        "    def method_d(self):\n",
        "        print(\"Method D\")\n",
        "\n",
        "obj_d = D()\n",
        "obj_d.method_a()  # Output: Method A\n",
        "obj_d.method_b()  # Output: Method B\n",
        "obj_d.method_c()  # Output: Method C\n",
        "obj_d.method_d()  # Output: Method D\n"
      ],
      "metadata": {
        "id": "5LWT3K8R-8Mb",
        "outputId": "364594e8-df60-489e-b77d-4a5d2262daf9",
        "colab": {
          "base_uri": "https://localhost:8080/"
        }
      },
      "execution_count": null,
      "outputs": [
        {
          "output_type": "stream",
          "name": "stdout",
          "text": [
            "Method A\n",
            "Method B\n",
            "Method C\n",
            "Method D\n"
          ]
        }
      ]
    },
    {
      "cell_type": "code",
      "source": [
        "#single inheritance\n",
        "class Animal:\n",
        "  def speak(self):\n",
        "    print(\"animal speak\")\n",
        "class Dog(Animal):\n",
        "  def bark(self):\n",
        "    print(\"Dog barks\")\n",
        "dog=Dog()\n",
        "dog.speak()\n",
        "dog.bark()\n",
        "\n",
        "\n",
        "\n"
      ],
      "metadata": {
        "id": "4CFN8pzE-8P2",
        "colab": {
          "base_uri": "https://localhost:8080/"
        },
        "outputId": "55a4ebf8-15b3-4871-9416-d71c2755a75d"
      },
      "execution_count": null,
      "outputs": [
        {
          "output_type": "stream",
          "name": "stdout",
          "text": [
            "animal speak\n",
            "Dog barks\n"
          ]
        }
      ]
    },
    {
      "cell_type": "code",
      "source": [
        "#multiple inheritance :\n",
        "class A:\n",
        "  def methode_a(self):\n",
        "    print(\"methode1\")\n",
        "class B:\n",
        "  def methode_b(self):\n",
        "     print(\"methode2\")\n",
        "class C(A,B):\n",
        "  def methode_c(self):\n",
        "    print(\"methode3\")\n",
        "obj_c=C()\n",
        "obj_c.methode_a()\n",
        "obj_c.methode_b()\n",
        "obj_c.methode_c()\n",
        "\n",
        "\n",
        "\n",
        "\n"
      ],
      "metadata": {
        "colab": {
          "base_uri": "https://localhost:8080/"
        },
        "id": "hjRCV0aBGJaV",
        "outputId": "90d3e69c-b357-4dd9-b2d3-651483e64235"
      },
      "execution_count": null,
      "outputs": [
        {
          "output_type": "stream",
          "name": "stdout",
          "text": [
            "methode1\n",
            "methode2\n",
            "methode3\n"
          ]
        }
      ]
    },
    {
      "cell_type": "code",
      "source": [
        "#multilevel\n",
        "class A:\n",
        "  def methode_a(self):\n",
        "    print(\"methode\")\n",
        "class B(A):\n",
        "  def methode_b(self):\n",
        "    print(\"methode2\")\n",
        "class C(B):\n",
        "  def methode_c(self):\n",
        "    print(\"ajsdhasjdas\")\n",
        "obj_c=C()\n",
        "obj_c.methode_a()\n",
        "obj_c.methode_b()\n",
        "obj_c.methode_c()\n",
        "\n"
      ],
      "metadata": {
        "colab": {
          "base_uri": "https://localhost:8080/"
        },
        "id": "saNT_Z7CGJdw",
        "outputId": "3f9d0780-9249-4580-f482-4f1fbf804533"
      },
      "execution_count": null,
      "outputs": [
        {
          "output_type": "stream",
          "name": "stdout",
          "text": [
            "methode\n",
            "methode2\n",
            "ajsdhasjdas\n"
          ]
        }
      ]
    },
    {
      "cell_type": "code",
      "source": [
        "#hierrarchical inheritance:\n",
        "class Animal:\n",
        "  def speack(self):\n",
        "    print(\"Animal Speak\")\n",
        "class Dog(Animal):\n",
        "  def bark(self):\n",
        "    print(\"Dog barks\")\n",
        "class Cat(Animal):\n",
        "  def meow(self):\n",
        "    print(\"cat mews\")\n",
        "dog=Dog()\n",
        "cat=Cat()\n",
        "dog.speack()\n",
        "cat.speack()"
      ],
      "metadata": {
        "colab": {
          "base_uri": "https://localhost:8080/"
        },
        "id": "p-DehHNAGFjF",
        "outputId": "f1b9c074-37b5-4d87-f135-f7b74ab5c3fd"
      },
      "execution_count": null,
      "outputs": [
        {
          "output_type": "stream",
          "name": "stdout",
          "text": [
            "Animal Speak\n",
            "Animal Speak\n"
          ]
        }
      ]
    },
    {
      "cell_type": "code",
      "source": [
        "#hybride\n",
        "class A:\n",
        "  def methode_a(self):\n",
        "    print(\"methode A\")\n",
        "class B(A):\n",
        "  def methode_b(self):\n",
        "    print(\"methode B\")\n",
        "class C(A):\n",
        "  def methode_c(self):\n",
        "    print(\"methode c\")\n",
        "class D(B,C):\n",
        "  def methode_d(self):\n",
        "    print(\"methode D\")\n",
        "obj_d=D()\n",
        "obj_d.methode_a()\n",
        "obj_d.methode_b()\n",
        "obj_d.methode_c()\n",
        "obj_d.methode_d()\n"
      ],
      "metadata": {
        "colab": {
          "base_uri": "https://localhost:8080/"
        },
        "id": "2TIszsWSGFmZ",
        "outputId": "6a094397-22a5-4f76-a78f-62e948e8849f"
      },
      "execution_count": null,
      "outputs": [
        {
          "output_type": "stream",
          "name": "stdout",
          "text": [
            "methode A\n",
            "methode B\n",
            "methode c\n",
            "methode D\n"
          ]
        }
      ]
    },
    {
      "cell_type": "code",
      "source": [],
      "metadata": {
        "id": "sPTYfy0fGFr2"
      },
      "execution_count": null,
      "outputs": []
    },
    {
      "cell_type": "code",
      "source": [],
      "metadata": {
        "id": "IhKjhBFOGFvZ"
      },
      "execution_count": null,
      "outputs": []
    }
  ]
}